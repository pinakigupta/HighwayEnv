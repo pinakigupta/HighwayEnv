{
 "cells": [
  {
   "cell_type": "code",
   "execution_count": 1,
   "metadata": {},
   "outputs": [],
   "source": [
    "import functools\n",
    "import gymnasium as gym\n",
    "import seaborn as sns\n",
    "from stable_baselines3 import PPO\n",
    "import torch\n",
    "import numpy as np\n",
    "from stable_baselines3.common.env_util import make_vec_env\n",
    "from stable_baselines3.common.vec_env import SubprocVecEnv\n",
    "import os\n",
    "import multiprocessing\n",
    "from enum import Enum\n",
    "import json\n",
    "import wandb\n",
    "from datetime import datetime\n",
    "from torch import FloatTensor\n",
    "from torch.utils.data import DataLoader\n",
    "import shutil\n",
    "from models.gail import GAIL\n",
    "from generate_expert_data import collect_expert_data, postprocess\n",
    "from forward_simulation import make_configure_env, append_key_to_dict_of_dict, simulate_with_model\n",
    "from sb3_callbacks import CustomCheckpointCallback, CustomMetricsCallback, CustomCurriculamCallback\n",
    "from utilities import extract_post_processed_expert_data, write_module_hierarchy_to_file, DefaultActorCriticPolicy, CustomDataset, CustomExtractor, retrieve_gail_agents\n",
    "import warnings\n",
    "from imitation.algorithms import bc\n",
    "from python_config import sweep_config, env_kwargs\n",
    "import matplotlib.pyplot as plt\n",
    "import zipfile\n",
    "from imitation.algorithms import bc\n",
    "from tqdm import tqdm\n",
    "from sklearn.metrics import accuracy_score, precision_score, recall_score, f1_score, confusion_matrix"
   ]
  },
  {
   "cell_type": "code",
   "execution_count": 5,
   "metadata": {},
   "outputs": [
    {
     "name": "stdout",
     "output_type": "stream",
     "text": [
      "Requirement already satisfied: highway_env in /home/ubuntu/.local/lib/python3.8/site-packages (1.8.2)\n",
      "Requirement already satisfied: pandas in /home/ubuntu/.local/lib/python3.8/site-packages (from highway_env) (2.0.3)\n",
      "Requirement already satisfied: numpy in /home/ubuntu/.local/lib/python3.8/site-packages (from highway_env) (1.24.4)\n",
      "Requirement already satisfied: gymnasium>=0.27 in /home/ubuntu/.local/lib/python3.8/site-packages (from highway_env) (0.28.1)\n",
      "Requirement already satisfied: matplotlib in /home/ubuntu/.local/lib/python3.8/site-packages (from highway_env) (3.7.2)\n",
      "Requirement already satisfied: pygame>=2.0.2 in /home/ubuntu/.local/lib/python3.8/site-packages (from highway_env) (2.5.0)\n",
      "Requirement already satisfied: scipy in /home/ubuntu/.local/lib/python3.8/site-packages (from highway_env) (1.10.1)\n",
      "Requirement already satisfied: python-dateutil>=2.8.2 in /home/ubuntu/.local/lib/python3.8/site-packages (from pandas->highway_env) (2.8.2)\n",
      "Requirement already satisfied: pytz>=2020.1 in /home/ubuntu/.local/lib/python3.8/site-packages (from pandas->highway_env) (2023.3)\n",
      "Requirement already satisfied: tzdata>=2022.1 in /home/ubuntu/.local/lib/python3.8/site-packages (from pandas->highway_env) (2023.3)\n",
      "Requirement already satisfied: importlib-metadata>=4.8.0; python_version < \"3.10\" in /home/ubuntu/.local/lib/python3.8/site-packages (from gymnasium>=0.27->highway_env) (4.13.0)\n",
      "Requirement already satisfied: typing-extensions>=4.3.0 in /home/ubuntu/.local/lib/python3.8/site-packages (from gymnasium>=0.27->highway_env) (4.7.1)\n",
      "Requirement already satisfied: cloudpickle>=1.2.0 in /home/ubuntu/.local/lib/python3.8/site-packages (from gymnasium>=0.27->highway_env) (2.2.1)\n",
      "Requirement already satisfied: jax-jumpy>=1.0.0 in /home/ubuntu/.local/lib/python3.8/site-packages (from gymnasium>=0.27->highway_env) (1.0.0)\n",
      "Requirement already satisfied: farama-notifications>=0.0.1 in /home/ubuntu/.local/lib/python3.8/site-packages (from gymnasium>=0.27->highway_env) (0.0.4)\n",
      "Requirement already satisfied: pyparsing<3.1,>=2.3.1 in /home/ubuntu/.local/lib/python3.8/site-packages (from matplotlib->highway_env) (3.0.9)\n",
      "Requirement already satisfied: importlib-resources>=3.2.0; python_version < \"3.10\" in /home/ubuntu/.local/lib/python3.8/site-packages (from matplotlib->highway_env) (6.0.1)\n",
      "Requirement already satisfied: pillow>=6.2.0 in /home/ubuntu/.local/lib/python3.8/site-packages (from matplotlib->highway_env) (10.0.0)\n",
      "Requirement already satisfied: kiwisolver>=1.0.1 in /home/ubuntu/.local/lib/python3.8/site-packages (from matplotlib->highway_env) (1.4.4)\n",
      "Requirement already satisfied: cycler>=0.10 in /home/ubuntu/.local/lib/python3.8/site-packages (from matplotlib->highway_env) (0.11.0)\n",
      "Requirement already satisfied: contourpy>=1.0.1 in /home/ubuntu/.local/lib/python3.8/site-packages (from matplotlib->highway_env) (1.1.0)\n",
      "Requirement already satisfied: fonttools>=4.22.0 in /home/ubuntu/.local/lib/python3.8/site-packages (from matplotlib->highway_env) (4.42.0)\n",
      "Requirement already satisfied: packaging>=20.0 in /home/ubuntu/.local/lib/python3.8/site-packages (from matplotlib->highway_env) (23.1)\n",
      "Requirement already satisfied: six>=1.5 in /usr/lib/python3/dist-packages (from python-dateutil>=2.8.2->pandas->highway_env) (1.14.0)\n",
      "Requirement already satisfied: zipp>=0.5 in /home/ubuntu/.local/lib/python3.8/site-packages (from importlib-metadata>=4.8.0; python_version < \"3.10\"->gymnasium>=0.27->highway_env) (3.16.2)\n"
     ]
    }
   ],
   "source": [
    "!pip install highway_env"
   ]
  },
  {
   "cell_type": "code",
   "execution_count": 11,
   "metadata": {},
   "outputs": [],
   "source": [
    "warnings.filterwarnings(\"ignore\")\n",
    "\n",
    "from highway_env.envs.common.action import DiscreteMetaAction\n",
    "ACTIONS_ALL = DiscreteMetaAction.ACTIONS_ALL\n",
    "\n",
    "\n",
    "class TrainEnum(Enum):\n",
    "    RLTRAIN = 0\n",
    "    RLDEPLOY = 1\n",
    "    IRLTRAIN = 2\n",
    "    IRLDEPLOY = 3\n",
    "    EXPERT_DATA_COLLECTION =4\n",
    "    BC = 5\n",
    "    BCDEPLOY = 6\n",
    "\n",
    "train = TrainEnum.BC\n",
    "\n",
    "\n",
    "\n",
    "attention_network_kwargs = dict(\n",
    "    # in_size=5*15,\n",
    "    embedding_layer_kwargs={\"in_size\": 7, \"layer_sizes\": [64, 64], \"reshape\": False},\n",
    "    attention_layer_kwargs={\"feature_size\": 64, \"heads\": 2},\n",
    "    # num_layers = 3,\n",
    ")\n",
    "\n",
    "def timenow():\n",
    "    return datetime.now().strftime(\"%H%M\")"
   ]
  },
  {
   "cell_type": "markdown",
   "metadata": {},
   "source": [
    "# ==================================\n",
    "#        Main script  20 \n",
    "# ==================================\n"
   ]
  },
  {
   "cell_type": "code",
   "execution_count": 8,
   "metadata": {},
   "outputs": [],
   "source": [
    "policy_kwargs = dict(\n",
    "        features_extractor_class=CustomExtractor,\n",
    "        features_extractor_kwargs=attention_network_kwargs,\n",
    "    )\n",
    "\n",
    "if False:\n",
    "    optimal_gail_agent, final_gail_agent = retrieve_gail_agents(\n",
    "                                                                # env= make_configure_env(**env_kwargs).unwrapped, # need only certain parameters\n",
    "                                                                artifact_version='trained_model_directory:v2'\n",
    "                                                                )\n",
    "    reward_oracle = final_gail_agent.d\n",
    "    env_kwargs.update({'reward_oracle':reward_oracle})\n",
    "\n",
    "WARM_START = False\n",
    "# Get the current date and time\n",
    "now = datetime.now()\n",
    "month = now.strftime(\"%m\")\n",
    "day = now.strftime(\"%d\")\n",
    "expert_data_file='expert_data_relative.h5'\n",
    "validation_data_file = 'expert_data_rel_val.h5'\n",
    "zip_filename = '../expert_data.zip'\n",
    "n_cpu =  multiprocessing.cpu_count()\n",
    "device = torch.device(\"cpu\")\n",
    "extract_path = \"../data/expert_data\""
   ]
  },
  {
   "cell_type": "code",
   "execution_count": 6,
   "metadata": {},
   "outputs": [
    {
     "name": "stdout",
     "output_type": "stream",
     "text": [
      "/home/ubuntu/HighwayEnv/scripts\n"
     ]
    }
   ],
   "source": [
    "!pwd"
   ]
  },
  {
   "cell_type": "markdown",
   "metadata": {},
   "source": [
    "# Assuming a zip file containing train data files and validaiton data files\n",
    "# populate hyper parameters and config params, say prepare experiment\n",
    "# Extract Datasets\n",
    "# Load Dataloaders\n",
    "# Create Trainer\n",
    "# Train data for n epochs\n",
    "# Validate data"
   ]
  },
  {
   "cell_type": "code",
   "execution_count": 13,
   "metadata": {},
   "outputs": [],
   "source": [
    "def create_trainer(env, policy, **kwargs):\n",
    "    return       bc.BC(\n",
    "                        observation_space=env.observation_space,\n",
    "                        action_space=env.action_space,\n",
    "                        demonstrations=None, #training_transitions,\n",
    "                        rng=np.random.default_rng(),\n",
    "                        batch_size=kwargs['batch_size'],\n",
    "                        device = device,\n",
    "                        policy=policy\n",
    "                        )"
   ]
  },
  {
   "cell_type": "code",
   "execution_count": 15,
   "metadata": {},
   "outputs": [],
   "source": [
    "def create_dataloaders(zip_filename, **kwargs):\n",
    "    # Extract the HDF5 files from the zip archive\n",
    "    with zipfile.ZipFile(zip_filename, 'r') as archive:\n",
    "        archive.extractall(extract_path)\n",
    "\n",
    "    # Extract the names of the HDF5 files from the zip archive\n",
    "    with zipfile.ZipFile(zip_filename, 'r') as archive:\n",
    "        hdf5_train_file_names = [os.path.join(extract_path, name) \n",
    "                                    for name in archive.namelist() \n",
    "                                    if name.endswith('.h5') and \"train\" in name]\n",
    "        hdf5_val_file_names = [os.path.join(extract_path, name) \n",
    "                                    for name in archive.namelist() \n",
    "                                    if name.endswith('.h5') and \"val\" in name]            \n",
    "\n",
    "    # Create separate datasets for each HDF5 file\n",
    "    train_datasets = [CustomDataset(hdf5_name, device) for hdf5_name in hdf5_train_file_names[:2]]\n",
    "    # val_datasets = [CustomDataset(hdf5_name, device) for hdf5_name in hdf5_val_file_names]\n",
    "    \n",
    "    # custom_dataset = CustomDataset(expert_data_file, device=device)\n",
    "    train_data_loaders = [DataLoader(\n",
    "                                dataset, \n",
    "                                batch_size=kwargs['batch_size'], \n",
    "                                shuffle=True,\n",
    "                                drop_last=True,\n",
    "                                num_workers=n_cpu,\n",
    "                                pin_memory=True\n",
    "                            ) for dataset in train_datasets]\n",
    "    return train_data_loaders, hdf5_train_file_names, hdf5_val_file_names\n"
   ]
  },
  {
   "cell_type": "code",
   "execution_count": null,
   "metadata": {},
   "outputs": [],
   "source": [
    "def train(trainer, data_loaders, **training_kwargs):\n",
    "    for epoch in range(training_kwargs['num_epochs']):\n",
    "        for data_loader in data_loaders:\n",
    "            trainer.set_demonstrations(data_loader)\n",
    "            trainer.train(n_epochs=1)"
   ]
  },
  {
   "cell_type": "code",
   "execution_count": 16,
   "metadata": {},
   "outputs": [],
   "source": [
    "def calculate_validation_metrics(bc_trainer, hdf5_train_file_names, hdf5_val_file_names):\n",
    "    true_labels = []\n",
    "    predicted_labels = []\n",
    "    # Iterate through the validation data and make predictions\n",
    "    with torch.no_grad():\n",
    "        for val_data_file in hdf5_val_file_names[:2]:\n",
    "            val_obs, val_acts, val_dones = extract_post_processed_expert_data(val_data_file)\n",
    "            predicted_labels.extend([bc_trainer.policy.predict(obs)[0] for obs in val_obs])\n",
    "            true_labels.extend(val_acts)\n",
    "\n",
    "    # Calculate evaluation metrics\n",
    "    accuracy = accuracy_score(true_labels, predicted_labels)\n",
    "    precision = precision_score(true_labels, predicted_labels, average=None)\n",
    "    recall = recall_score(true_labels, predicted_labels, average=None)\n",
    "    f1 = f1_score(true_labels, predicted_labels, average=None)\n",
    "    conf_matrix = confusion_matrix(true_labels, predicted_labels)\n",
    "\n",
    "    # Print the metrics\n",
    "    print(\"Accuracy:\", accuracy, np.mean(accuracy))\n",
    "    print(\"Precision:\", precision, np.mean(precision))\n",
    "    print(\"Recall:\", recall, np.mean(recall))\n",
    "    print(\"F1 Score:\", f1, np.mean(f1))\n",
    "\n",
    "\n",
    "    predicted_labels = []\n",
    "    true_labels = []\n",
    "    with torch.no_grad():\n",
    "        for val_data_file in hdf5_train_file_names[:2]:\n",
    "            val_obs, val_acts, val_dones = extract_post_processed_expert_data(val_data_file)\n",
    "            predicted_labels.extend([bc_trainer.policy.predict(obs)[0] for obs in val_obs])\n",
    "            true_labels.extend(val_acts)\n",
    "\n",
    "    # Calculate evaluation metrics\n",
    "    accuracy = accuracy_score(true_labels, predicted_labels)\n",
    "    precision = precision_score(true_labels, predicted_labels, average=None)\n",
    "    recall = recall_score(true_labels, predicted_labels, average=None)\n",
    "    f1 = f1_score(true_labels, predicted_labels, average=None)\n",
    "\n",
    "\n",
    "\n",
    "    print(\"--------  Training data metrics for reference---------------\")\n",
    "    print(\"Accuracy:\", accuracy, np.mean(accuracy))\n",
    "    print(\"Precision:\", precision,  np.mean(precision))\n",
    "    print(\"Recall:\", recall, np.mean(recall))\n",
    "    print(\"F1 Score:\", f1, np.mean(recall))\n",
    "\n",
    "\n",
    "    plt.figure(figsize=(8, 6))\n",
    "    class_labels = [ ACTIONS_ALL[idx] for idx in range(len(ACTIONS_ALL))]\n",
    "    sns.heatmap(conf_matrix, annot=True, fmt=\"d\", cmap=\"Blues\", xticklabels=class_labels, yticklabels=class_labels)\n",
    "    plt.xlabel(\"Predicted Labels\")\n",
    "    plt.ylabel(\"True Labels\")\n",
    "    plt.title(\"Confusion Matrix\")\n",
    "    plt.show()    "
   ]
  },
  {
   "cell_type": "code",
   "execution_count": 17,
   "metadata": {},
   "outputs": [
    {
     "name": "stderr",
     "output_type": "stream",
     "text": [
      "0batch [00:00, ?batch/s]"
     ]
    },
    {
     "name": "stdout",
     "output_type": "stream",
     "text": [
      "--------------------------------\n",
      "| batch_size        | 128      |\n",
      "| bc/               |          |\n",
      "|    batch          | 0        |\n",
      "|    ent_loss       | -0.00161 |\n",
      "|    entropy        | 1.61     |\n",
      "|    epoch          | 0        |\n",
      "|    l2_loss        | 0        |\n",
      "|    l2_norm        | 129      |\n",
      "|    loss           | 1.61     |\n",
      "|    neglogp        | 1.61     |\n",
      "|    prob_true_act  | 0.2      |\n",
      "|    samples_so_far | 128      |\n",
      "--------------------------------\n"
     ]
    },
    {
     "name": "stderr",
     "output_type": "stream",
     "text": [
      "139batch [00:02, 53.22batch/s]]\n",
      "0batch [00:00, ?batch/s]"
     ]
    },
    {
     "name": "stdout",
     "output_type": "stream",
     "text": [
      "--------------------------------\n",
      "| batch_size        | 128      |\n",
      "| bc/               |          |\n",
      "|    batch          | 0        |\n",
      "|    ent_loss       | -0.00141 |\n",
      "|    entropy        | 1.41     |\n",
      "|    epoch          | 0        |\n",
      "|    l2_loss        | 0        |\n",
      "|    l2_norm        | 135      |\n",
      "|    loss           | 1.39     |\n",
      "|    neglogp        | 1.4      |\n",
      "|    prob_true_act  | 0.285    |\n",
      "|    samples_so_far | 128      |\n",
      "--------------------------------\n"
     ]
    },
    {
     "name": "stderr",
     "output_type": "stream",
     "text": [
      "149batch [00:02, 57.39batch/s]]\n",
      "0batch [00:00, ?batch/s]"
     ]
    },
    {
     "name": "stdout",
     "output_type": "stream",
     "text": [
      "--------------------------------\n",
      "| batch_size        | 128      |\n",
      "| bc/               |          |\n",
      "|    batch          | 0        |\n",
      "|    ent_loss       | -0.0014  |\n",
      "|    entropy        | 1.4      |\n",
      "|    epoch          | 0        |\n",
      "|    l2_loss        | 0        |\n",
      "|    l2_norm        | 145      |\n",
      "|    loss           | 1.35     |\n",
      "|    neglogp        | 1.35     |\n",
      "|    prob_true_act  | 0.284    |\n",
      "|    samples_so_far | 128      |\n",
      "--------------------------------\n"
     ]
    },
    {
     "name": "stderr",
     "output_type": "stream",
     "text": [
      "139batch [00:02, 53.43batch/s]]\n",
      "0batch [00:00, ?batch/s]"
     ]
    },
    {
     "name": "stdout",
     "output_type": "stream",
     "text": [
      "--------------------------------\n",
      "| batch_size        | 128      |\n",
      "| bc/               |          |\n",
      "|    batch          | 0        |\n",
      "|    ent_loss       | -0.00127 |\n",
      "|    entropy        | 1.27     |\n",
      "|    epoch          | 0        |\n",
      "|    l2_loss        | 0        |\n",
      "|    l2_norm        | 170      |\n",
      "|    loss           | 1.02     |\n",
      "|    neglogp        | 1.02     |\n",
      "|    prob_true_act  | 0.375    |\n",
      "|    samples_so_far | 128      |\n",
      "--------------------------------\n"
     ]
    },
    {
     "name": "stderr",
     "output_type": "stream",
     "text": [
      "149batch [00:02, 56.37batch/s]]\n",
      "0batch [00:00, ?batch/s]"
     ]
    },
    {
     "name": "stdout",
     "output_type": "stream",
     "text": [
      "--------------------------------\n",
      "| batch_size        | 128      |\n",
      "| bc/               |          |\n",
      "|    batch          | 0        |\n",
      "|    ent_loss       | -0.00102 |\n",
      "|    entropy        | 1.02     |\n",
      "|    epoch          | 0        |\n",
      "|    l2_loss        | 0        |\n",
      "|    l2_norm        | 194      |\n",
      "|    loss           | 0.884    |\n",
      "|    neglogp        | 0.885    |\n",
      "|    prob_true_act  | 0.452    |\n",
      "|    samples_so_far | 128      |\n",
      "--------------------------------\n"
     ]
    },
    {
     "name": "stderr",
     "output_type": "stream",
     "text": [
      "139batch [00:02, 53.73batch/s]]\n",
      "0batch [00:00, ?batch/s]"
     ]
    },
    {
     "name": "stdout",
     "output_type": "stream",
     "text": [
      "---------------------------------\n",
      "| batch_size        | 128       |\n",
      "| bc/               |           |\n",
      "|    batch          | 0         |\n",
      "|    ent_loss       | -0.000947 |\n",
      "|    entropy        | 0.947     |\n",
      "|    epoch          | 0         |\n",
      "|    l2_loss        | 0         |\n",
      "|    l2_norm        | 208       |\n",
      "|    loss           | 0.9       |\n",
      "|    neglogp        | 0.901     |\n",
      "|    prob_true_act  | 0.465     |\n",
      "|    samples_so_far | 128       |\n",
      "---------------------------------\n"
     ]
    },
    {
     "name": "stderr",
     "output_type": "stream",
     "text": [
      "149batch [00:02, 56.83batch/s]]\n"
     ]
    },
    {
     "name": "stdout",
     "output_type": "stream",
     "text": [
      "Accuracy: 0.4788266666666667 0.4788266666666667\n",
      "Precision: [0.85918004 0.53700306 0.84693878 0.30688554 0.37410882] 0.5848232464383403\n",
      "Recall: [0.81694915 0.49660633 0.83959538 0.38946759 0.35242135] 0.5790079611999195\n",
      "F1 Score: [0.83753258 0.51601528 0.84325109 0.34327978 0.36294139] 0.580604023141827\n",
      "--------  Training data metrics for reference---------------\n",
      "Accuracy: 0.4865230569387313 0.4865230569387313\n",
      "Precision: [0.86314922 0.5244872  0.83687943 0.34809488 0.37207641] 0.5889374283717173\n",
      "Recall: [0.83961508 0.48715109 0.85198556 0.37732495 0.38471479] 0.5881582906678248\n",
      "F1 Score: [0.85121951 0.50513017 0.84436494 0.36212101 0.37829007] 0.5881582906678248\n"
     ]
    },
    {
     "data": {
      "image/png": "[encoded data removed]",
      "text/plain": [
       "<Figure size 800x600 with 2 Axes>"
      ]
     },
     "metadata": {},
     "output_type": "display_data"
    },
    {
     "data": {
      "text/html": [
       "Tracking run with wandb version 0.15.8"
      ],
      "text/plain": [
       "<IPython.core.display.HTML object>"
      ]
     },
     "metadata": {},
     "output_type": "display_data"
    },
    {
     "data": {
      "text/html": [
       "Run data is saved locally in <code>/home/ubuntu/HighwayEnv/scripts/wandb/run-20230821_043848-11fpsrld</code>"
      ],
      "text/plain": [
       "<IPython.core.display.HTML object>"
      ]
     },
     "metadata": {},
     "output_type": "display_data"
    },
    {
     "data": {
      "text/html": [
       "Syncing run <strong><a href='https://wandb.ai/gpinaki/BC/runs/11fpsrld' target=\"_blank\">neat-star-107</a></strong> to <a href='https://wandb.ai/gpinaki/BC' target=\"_blank\">Weights & Biases</a> (<a href='https://wandb.me/run' target=\"_blank\">docs</a>)<br/>"
      ],
      "text/plain": [
       "<IPython.core.display.HTML object>"
      ]
     },
     "metadata": {},
     "output_type": "display_data"
    },
    {
     "data": {
      "text/html": [
       " View project at <a href='https://wandb.ai/gpinaki/BC' target=\"_blank\">https://wandb.ai/gpinaki/BC</a>"
      ],
      "text/plain": [
       "<IPython.core.display.HTML object>"
      ]
     },
     "metadata": {},
     "output_type": "display_data"
    },
    {
     "data": {
      "text/html": [
       " View run at <a href='https://wandb.ai/gpinaki/BC/runs/11fpsrld' target=\"_blank\">https://wandb.ai/gpinaki/BC/runs/11fpsrld</a>"
      ],
      "text/plain": [
       "<IPython.core.display.HTML object>"
      ]
     },
     "metadata": {},
     "output_type": "display_data"
    },
    {
     "data": {
      "text/html": [
       "Waiting for W&B process to finish... <strong style=\"color:green\">(success).</strong>"
      ],
      "text/plain": [
       "<IPython.core.display.HTML object>"
      ]
     },
     "metadata": {},
     "output_type": "display_data"
    },
    {
     "name": "stderr",
     "output_type": "stream",
     "text": [
      "wandb: WARNING Source type is set to 'repo' but some required information is missing from the environment. A job will not be created from this run. See https://docs.wandb.ai/guides/launch/create-job\n"
     ]
    },
    {
     "data": {
      "application/vnd.jupyter.widget-view+json": {
       "model_id": "efd8ba53240a4abbbaa960ac0ebcbc83",
       "version_major": 2,
       "version_minor": 0
      },
      "text/plain": [
       "VBox(children=(Label(value='6.656 MB of 6.656 MB uploaded (0.000 MB deduped)\\r'), FloatProgress(value=1.0, max…"
      ]
     },
     "metadata": {},
     "output_type": "display_data"
    },
    {
     "data": {
      "text/html": [
       " View run <strong style=\"color:#cdcd00\">neat-star-107</strong> at: <a href='https://wandb.ai/gpinaki/BC/runs/11fpsrld' target=\"_blank\">https://wandb.ai/gpinaki/BC/runs/11fpsrld</a><br/>Synced 4 W&B file(s), 0 media file(s), 1 artifact file(s) and 0 other file(s)"
      ],
      "text/plain": [
       "<IPython.core.display.HTML object>"
      ]
     },
     "metadata": {},
     "output_type": "display_data"
    },
    {
     "data": {
      "text/html": [
       "Find logs at: <code>./wandb/run-20230821_043848-11fpsrld/logs</code>"
      ],
      "text/plain": [
       "<IPython.core.display.HTML object>"
      ]
     },
     "metadata": {},
     "output_type": "display_data"
    }
   ],
   "source": [
    "if train == TrainEnum.BC:\n",
    "    env = make_configure_env(**env_kwargs)\n",
    "    state_dim = env.observation_space.high.shape[0]*env.observation_space.high.shape[1]\n",
    "    action_dim = env.action_space.n\n",
    "    num_epochs = 3\n",
    "    device = torch.device('cuda' if torch.cuda.is_available() else 'cpu')\n",
    "    policy = DefaultActorCriticPolicy(env, device)\n",
    "    batch_size= 128\n",
    "    bc_trainer = create_trainer(env, policy, batch_size=batch_size)\n",
    "    train_data_loaders, hdf5_train_file_names, hdf5_val_file_names = create_dataloaders(zip_filename, batch_size=batch_size)\n",
    "    train(bc_trainer, train_data_loaders, num_epochs=num_epochs)\n",
    "    calculate_validation_metrics(bc_trainer, hdf5_train_file_names, hdf5_val_file_names)\n",
    "\n",
    "    with wandb.init(\n",
    "                        project=\"BC\", \n",
    "                        # magic=True,\n",
    "                    ) as run:\n",
    "                    run.name = f\"sweep_{month}{day}_{timenow()}\"\n",
    "                    # Log the model as an artifact in wandb\n",
    "                    torch.save(bc_trainer, 'BC_agent.pth')            \n",
    "                    artifact = wandb.Artifact(\"trained_model\", type=\"model\")\n",
    "                    artifact.add_file(\"BC_agent.pth\")\n",
    "                    run.log_artifact(artifact)\n",
    "    wandb.finish()\n",
    "    \n"
   ]
  },
  {
   "cell_type": "code",
   "execution_count": null,
   "metadata": {},
   "outputs": [],
   "source": []
  }
 ],
 "metadata": {
  "kernelspec": {
   "display_name": "Python 3",
   "language": "python",
   "name": "python3"
  },
  "language_info": {
   "codemirror_mode": {
    "name": "ipython",
    "version": 3
   },
   "file_extension": ".py",
   "mimetype": "text/x-python",
   "name": "python",
   "nbconvert_exporter": "python",
   "pygments_lexer": "ipython3",
   "version": "3.8.10"
  },
  "orig_nbformat": 4
 },
 "nbformat": 4,
 "nbformat_minor": 2
}
