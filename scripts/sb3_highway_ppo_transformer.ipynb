{
 "cells": [
  {
   "cell_type": "code",
   "execution_count": 1,
   "metadata": {},
   "outputs": [],
   "source": [
    "import functools\n",
    "import gymnasium as gym\n",
    "import seaborn as sns\n",
    "from stable_baselines3 import PPO\n",
    "import torch\n",
    "import numpy as np\n",
    "from stable_baselines3.common.env_util import make_vec_env\n",
    "from stable_baselines3.common.vec_env import SubprocVecEnv\n",
    "import os\n",
    "import multiprocessing\n",
    "from enum import Enum\n",
    "import json\n",
    "import wandb\n",
    "from datetime import datetime\n",
    "from torch import FloatTensor\n",
    "from torch.utils.data import DataLoader\n",
    "import shutil\n",
    "from models.gail import GAIL\n",
    "from generate_expert_data import collect_expert_data, postprocess\n",
    "from forward_simulation import make_configure_env, append_key_to_dict_of_dict, simulate_with_model\n",
    "from sb3_callbacks import CustomCheckpointCallback, CustomMetricsCallback, CustomCurriculamCallback\n",
    "from utilities import extract_post_processed_expert_data, write_module_hierarchy_to_file, DefaultActorCriticPolicy, CustomDataset, CustomExtractor, retrieve_gail_agents\n",
    "import warnings\n",
    "from imitation.algorithms import bc\n",
    "from python_config import sweep_config, env_kwargs\n",
    "import matplotlib.pyplot as plt\n",
    "import zipfile\n",
    "from imitation.algorithms import bc\n",
    "from tqdm import tqdm\n",
    "from sklearn.metrics import accuracy_score, precision_score, recall_score, f1_score, confusion_matrix"
   ]
  },
  {
   "cell_type": "code",
   "execution_count": 5,
   "metadata": {},
   "outputs": [
    {
     "name": "stdout",
     "output_type": "stream",
     "text": [
      "Requirement already satisfied: highway_env in /home/ubuntu/.local/lib/python3.8/site-packages (1.8.2)\n",
      "Requirement already satisfied: pandas in /home/ubuntu/.local/lib/python3.8/site-packages (from highway_env) (2.0.3)\n",
      "Requirement already satisfied: numpy in /home/ubuntu/.local/lib/python3.8/site-packages (from highway_env) (1.24.4)\n",
      "Requirement already satisfied: gymnasium>=0.27 in /home/ubuntu/.local/lib/python3.8/site-packages (from highway_env) (0.28.1)\n",
      "Requirement already satisfied: matplotlib in /home/ubuntu/.local/lib/python3.8/site-packages (from highway_env) (3.7.2)\n",
      "Requirement already satisfied: pygame>=2.0.2 in /home/ubuntu/.local/lib/python3.8/site-packages (from highway_env) (2.5.0)\n",
      "Requirement already satisfied: scipy in /home/ubuntu/.local/lib/python3.8/site-packages (from highway_env) (1.10.1)\n",
      "Requirement already satisfied: python-dateutil>=2.8.2 in /home/ubuntu/.local/lib/python3.8/site-packages (from pandas->highway_env) (2.8.2)\n",
      "Requirement already satisfied: pytz>=2020.1 in /home/ubuntu/.local/lib/python3.8/site-packages (from pandas->highway_env) (2023.3)\n",
      "Requirement already satisfied: tzdata>=2022.1 in /home/ubuntu/.local/lib/python3.8/site-packages (from pandas->highway_env) (2023.3)\n",
      "Requirement already satisfied: importlib-metadata>=4.8.0; python_version < \"3.10\" in /home/ubuntu/.local/lib/python3.8/site-packages (from gymnasium>=0.27->highway_env) (4.13.0)\n",
      "Requirement already satisfied: typing-extensions>=4.3.0 in /home/ubuntu/.local/lib/python3.8/site-packages (from gymnasium>=0.27->highway_env) (4.7.1)\n",
      "Requirement already satisfied: cloudpickle>=1.2.0 in /home/ubuntu/.local/lib/python3.8/site-packages (from gymnasium>=0.27->highway_env) (2.2.1)\n",
      "Requirement already satisfied: jax-jumpy>=1.0.0 in /home/ubuntu/.local/lib/python3.8/site-packages (from gymnasium>=0.27->highway_env) (1.0.0)\n",
      "Requirement already satisfied: farama-notifications>=0.0.1 in /home/ubuntu/.local/lib/python3.8/site-packages (from gymnasium>=0.27->highway_env) (0.0.4)\n",
      "Requirement already satisfied: pyparsing<3.1,>=2.3.1 in /home/ubuntu/.local/lib/python3.8/site-packages (from matplotlib->highway_env) (3.0.9)\n",
      "Requirement already satisfied: importlib-resources>=3.2.0; python_version < \"3.10\" in /home/ubuntu/.local/lib/python3.8/site-packages (from matplotlib->highway_env) (6.0.1)\n",
      "Requirement already satisfied: pillow>=6.2.0 in /home/ubuntu/.local/lib/python3.8/site-packages (from matplotlib->highway_env) (10.0.0)\n",
      "Requirement already satisfied: kiwisolver>=1.0.1 in /home/ubuntu/.local/lib/python3.8/site-packages (from matplotlib->highway_env) (1.4.4)\n",
      "Requirement already satisfied: cycler>=0.10 in /home/ubuntu/.local/lib/python3.8/site-packages (from matplotlib->highway_env) (0.11.0)\n",
      "Requirement already satisfied: contourpy>=1.0.1 in /home/ubuntu/.local/lib/python3.8/site-packages (from matplotlib->highway_env) (1.1.0)\n",
      "Requirement already satisfied: fonttools>=4.22.0 in /home/ubuntu/.local/lib/python3.8/site-packages (from matplotlib->highway_env) (4.42.0)\n",
      "Requirement already satisfied: packaging>=20.0 in /home/ubuntu/.local/lib/python3.8/site-packages (from matplotlib->highway_env) (23.1)\n",
      "Requirement already satisfied: six>=1.5 in /usr/lib/python3/dist-packages (from python-dateutil>=2.8.2->pandas->highway_env) (1.14.0)\n",
      "Requirement already satisfied: zipp>=0.5 in /home/ubuntu/.local/lib/python3.8/site-packages (from importlib-metadata>=4.8.0; python_version < \"3.10\"->gymnasium>=0.27->highway_env) (3.16.2)\n"
     ]
    }
   ],
   "source": [
    "!pip install highway_env"
   ]
  },
  {
   "cell_type": "code",
   "execution_count": 11,
   "metadata": {},
   "outputs": [],
   "source": [
    "warnings.filterwarnings(\"ignore\")\n",
    "\n",
    "from highway_env.envs.common.action import DiscreteMetaAction\n",
    "ACTIONS_ALL = DiscreteMetaAction.ACTIONS_ALL\n",
    "\n",
    "\n",
    "class TrainEnum(Enum):\n",
    "    RLTRAIN = 0\n",
    "    RLDEPLOY = 1\n",
    "    IRLTRAIN = 2\n",
    "    IRLDEPLOY = 3\n",
    "    EXPERT_DATA_COLLECTION =4\n",
    "    BC = 5\n",
    "    BCDEPLOY = 6\n",
    "\n",
    "train = TrainEnum.BC\n",
    "\n",
    "\n",
    "\n",
    "attention_network_kwargs = dict(\n",
    "    # in_size=5*15,\n",
    "    embedding_layer_kwargs={\"in_size\": 7, \"layer_sizes\": [64, 64], \"reshape\": False},\n",
    "    attention_layer_kwargs={\"feature_size\": 64, \"heads\": 2},\n",
    "    # num_layers = 3,\n",
    ")\n",
    "\n",
    "def timenow():\n",
    "    return datetime.now().strftime(\"%H%M\")"
   ]
  },
  {
   "cell_type": "markdown",
   "metadata": {},
   "source": [
    "# ==================================\n",
    "#        Main script  20 \n",
    "# ==================================\n"
   ]
  },
  {
   "cell_type": "code",
   "execution_count": 8,
   "metadata": {},
   "outputs": [],
   "source": [
    "policy_kwargs = dict(\n",
    "        features_extractor_class=CustomExtractor,\n",
    "        features_extractor_kwargs=attention_network_kwargs,\n",
    "    )\n",
    "\n",
    "if False:\n",
    "    optimal_gail_agent, final_gail_agent = retrieve_gail_agents(\n",
    "                                                                # env= make_configure_env(**env_kwargs).unwrapped, # need only certain parameters\n",
    "                                                                artifact_version='trained_model_directory:v2'\n",
    "                                                                )\n",
    "    reward_oracle = final_gail_agent.d\n",
    "    env_kwargs.update({'reward_oracle':reward_oracle})\n",
    "\n",
    "WARM_START = False\n",
    "# Get the current date and time\n",
    "now = datetime.now()\n",
    "month = now.strftime(\"%m\")\n",
    "day = now.strftime(\"%d\")\n",
    "expert_data_file='expert_data_relative.h5'\n",
    "validation_data_file = 'expert_data_rel_val.h5'\n",
    "zip_filename = '../expert_data.zip'\n",
    "n_cpu =  multiprocessing.cpu_count()\n",
    "device = torch.device(\"cpu\")\n",
    "extract_path = \"../data/expert_data\""
   ]
  },
  {
   "cell_type": "code",
   "execution_count": 6,
   "metadata": {},
   "outputs": [
    {
     "name": "stdout",
     "output_type": "stream",
     "text": [
      "/home/ubuntu/HighwayEnv/scripts\n"
     ]
    }
   ],
   "source": [
    "!pwd"
   ]
  },
  {
   "cell_type": "code",
   "execution_count": 12,
   "metadata": {},
   "outputs": [
    {
     "name": "stderr",
     "output_type": "stream",
     "text": [
      "0batch [00:00, ?batch/s]"
     ]
    },
    {
     "name": "stdout",
     "output_type": "stream",
     "text": [
      "--------------------------------\n",
      "| batch_size        | 128      |\n",
      "| bc/               |          |\n",
      "|    batch          | 0        |\n",
      "|    ent_loss       | -0.00161 |\n",
      "|    entropy        | 1.61     |\n",
      "|    epoch          | 0        |\n",
      "|    l2_loss        | 0        |\n",
      "|    l2_norm        | 129      |\n",
      "|    loss           | 1.61     |\n",
      "|    neglogp        | 1.61     |\n",
      "|    prob_true_act  | 0.2      |\n",
      "|    samples_so_far | 128      |\n",
      "--------------------------------\n"
     ]
    },
    {
     "name": "stderr",
     "output_type": "stream",
     "text": [
      "139batch [00:01, 69.95batch/s]]\n",
      "0batch [00:00, ?batch/s]"
     ]
    },
    {
     "name": "stdout",
     "output_type": "stream",
     "text": [
      "--------------------------------\n",
      "| batch_size        | 128      |\n",
      "| bc/               |          |\n",
      "|    batch          | 0        |\n",
      "|    ent_loss       | -0.00142 |\n",
      "|    entropy        | 1.42     |\n",
      "|    epoch          | 0        |\n",
      "|    l2_loss        | 0        |\n",
      "|    l2_norm        | 133      |\n",
      "|    loss           | 1.37     |\n",
      "|    neglogp        | 1.37     |\n",
      "|    prob_true_act  | 0.281    |\n",
      "|    samples_so_far | 128      |\n",
      "--------------------------------\n"
     ]
    },
    {
     "name": "stderr",
     "output_type": "stream",
     "text": [
      "149batch [00:02, 72.78batch/s]]\n",
      "0batch [00:00, ?batch/s]"
     ]
    },
    {
     "name": "stdout",
     "output_type": "stream",
     "text": [
      "--------------------------------\n",
      "| batch_size        | 128      |\n",
      "| bc/               |          |\n",
      "|    batch          | 0        |\n",
      "|    ent_loss       | -0.0014  |\n",
      "|    entropy        | 1.4      |\n",
      "|    epoch          | 0        |\n",
      "|    l2_loss        | 0        |\n",
      "|    l2_norm        | 142      |\n",
      "|    loss           | 1.35     |\n",
      "|    neglogp        | 1.35     |\n",
      "|    prob_true_act  | 0.288    |\n",
      "|    samples_so_far | 128      |\n",
      "--------------------------------\n"
     ]
    },
    {
     "name": "stderr",
     "output_type": "stream",
     "text": [
      "139batch [00:01, 69.60batch/s]]\n",
      "0batch [00:00, ?batch/s]"
     ]
    },
    {
     "name": "stdout",
     "output_type": "stream",
     "text": [
      "--------------------------------\n",
      "| batch_size        | 128      |\n",
      "| bc/               |          |\n",
      "|    batch          | 0        |\n",
      "|    ent_loss       | -0.0013  |\n",
      "|    entropy        | 1.3      |\n",
      "|    epoch          | 0        |\n",
      "|    l2_loss        | 0        |\n",
      "|    l2_norm        | 162      |\n",
      "|    loss           | 1.09     |\n",
      "|    neglogp        | 1.09     |\n",
      "|    prob_true_act  | 0.357    |\n",
      "|    samples_so_far | 128      |\n",
      "--------------------------------\n"
     ]
    },
    {
     "name": "stderr",
     "output_type": "stream",
     "text": [
      "149batch [00:02, 74.13batch/s]]\n",
      "0batch [00:00, ?batch/s]"
     ]
    },
    {
     "name": "stdout",
     "output_type": "stream",
     "text": [
      "--------------------------------\n",
      "| batch_size        | 128      |\n",
      "| bc/               |          |\n",
      "|    batch          | 0        |\n",
      "|    ent_loss       | -0.00109 |\n",
      "|    entropy        | 1.09     |\n",
      "|    epoch          | 0        |\n",
      "|    l2_loss        | 0        |\n",
      "|    l2_norm        | 188      |\n",
      "|    loss           | 0.939    |\n",
      "|    neglogp        | 0.94     |\n",
      "|    prob_true_act  | 0.415    |\n",
      "|    samples_so_far | 128      |\n",
      "--------------------------------\n"
     ]
    },
    {
     "name": "stderr",
     "output_type": "stream",
     "text": [
      "139batch [00:02, 68.82batch/s]]\n",
      "0batch [00:00, ?batch/s]"
     ]
    },
    {
     "name": "stdout",
     "output_type": "stream",
     "text": [
      "---------------------------------\n",
      "| batch_size        | 128       |\n",
      "| bc/               |           |\n",
      "|    batch          | 0         |\n",
      "|    ent_loss       | -0.000957 |\n",
      "|    entropy        | 0.957     |\n",
      "|    epoch          | 0         |\n",
      "|    l2_loss        | 0         |\n",
      "|    l2_norm        | 202       |\n",
      "|    loss           | 0.889     |\n",
      "|    neglogp        | 0.89      |\n",
      "|    prob_true_act  | 0.469     |\n",
      "|    samples_so_far | 128       |\n",
      "---------------------------------\n"
     ]
    },
    {
     "name": "stderr",
     "output_type": "stream",
     "text": [
      "149batch [00:02, 73.65batch/s]]\n"
     ]
    },
    {
     "data": {
      "text/html": [
       "Tracking run with wandb version 0.15.8"
      ],
      "text/plain": [
       "<IPython.core.display.HTML object>"
      ]
     },
     "metadata": {},
     "output_type": "display_data"
    },
    {
     "data": {
      "text/html": [
       "Run data is saved locally in <code>/home/ubuntu/HighwayEnv/scripts/wandb/run-20230821_025750-d7d6waar</code>"
      ],
      "text/plain": [
       "<IPython.core.display.HTML object>"
      ]
     },
     "metadata": {},
     "output_type": "display_data"
    },
    {
     "data": {
      "text/html": [
       "Syncing run <strong><a href='https://wandb.ai/gpinaki/BC/runs/d7d6waar' target=\"_blank\">swept-dust-106</a></strong> to <a href='https://wandb.ai/gpinaki/BC' target=\"_blank\">Weights & Biases</a> (<a href='https://wandb.me/run' target=\"_blank\">docs</a>)<br/>"
      ],
      "text/plain": [
       "<IPython.core.display.HTML object>"
      ]
     },
     "metadata": {},
     "output_type": "display_data"
    },
    {
     "data": {
      "text/html": [
       " View project at <a href='https://wandb.ai/gpinaki/BC' target=\"_blank\">https://wandb.ai/gpinaki/BC</a>"
      ],
      "text/plain": [
       "<IPython.core.display.HTML object>"
      ]
     },
     "metadata": {},
     "output_type": "display_data"
    },
    {
     "data": {
      "text/html": [
       " View run at <a href='https://wandb.ai/gpinaki/BC/runs/d7d6waar' target=\"_blank\">https://wandb.ai/gpinaki/BC/runs/d7d6waar</a>"
      ],
      "text/plain": [
       "<IPython.core.display.HTML object>"
      ]
     },
     "metadata": {},
     "output_type": "display_data"
    },
    {
     "data": {
      "text/html": [
       "Waiting for W&B process to finish... <strong style=\"color:green\">(success).</strong>"
      ],
      "text/plain": [
       "<IPython.core.display.HTML object>"
      ]
     },
     "metadata": {},
     "output_type": "display_data"
    },
    {
     "name": "stderr",
     "output_type": "stream",
     "text": [
      "wandb: WARNING Source type is set to 'repo' but some required information is missing from the environment. A job will not be created from this run. See https://docs.wandb.ai/guides/launch/create-job\n"
     ]
    },
    {
     "data": {
      "application/vnd.jupyter.widget-view+json": {
       "model_id": "d07b692f59dc45ae97c912cc06ad212b",
       "version_major": 2,
       "version_minor": 0
      },
      "text/plain": [
       "VBox(children=(Label(value='6.661 MB of 6.661 MB uploaded (0.000 MB deduped)\\r'), FloatProgress(value=1.0, max…"
      ]
     },
     "metadata": {},
     "output_type": "display_data"
    },
    {
     "data": {
      "text/html": [
       " View run <strong style=\"color:#cdcd00\">swept-dust-106</strong> at: <a href='https://wandb.ai/gpinaki/BC/runs/d7d6waar' target=\"_blank\">https://wandb.ai/gpinaki/BC/runs/d7d6waar</a><br/>Synced 4 W&B file(s), 0 media file(s), 1 artifact file(s) and 0 other file(s)"
      ],
      "text/plain": [
       "<IPython.core.display.HTML object>"
      ]
     },
     "metadata": {},
     "output_type": "display_data"
    },
    {
     "data": {
      "text/html": [
       "Find logs at: <code>./wandb/run-20230821_025750-d7d6waar/logs</code>"
      ],
      "text/plain": [
       "<IPython.core.display.HTML object>"
      ]
     },
     "metadata": {},
     "output_type": "display_data"
    },
    {
     "name": "stdout",
     "output_type": "stream",
     "text": [
      "Accuracy: 0.4834133333333333 0.4834133333333333\n",
      "Precision: [0.84440559 0.53991841 0.85756677 0.296333   0.38073908] 0.5837925719245611\n",
      "Recall: [0.81864407 0.52403846 0.83526012 0.34606481 0.36055143] 0.5769117782716191\n",
      "F1 Score: [0.8313253  0.53185993 0.84626647 0.31927389 0.37037037] 0.5798191932579936\n",
      "--------  Training data metrics for reference---------------\n",
      "Accuracy: 0.4960759904741286 0.4960759904741286\n",
      "Precision: [0.84411997 0.52844752 0.84850719 0.35647887 0.37905645] 0.5913219988268619\n",
      "Recall: [0.85765838 0.53086693 0.83104693 0.34614333 0.38489939] 0.590122992174519\n",
      "F1 Score: [0.85083532 0.52965446 0.8396863  0.35123508 0.38195558] 0.590122992174519\n"
     ]
    },
    {
     "data": {
      "image/png": "[encoded data removed]",
      "text/plain": [
       "<Figure size 800x600 with 2 Axes>"
      ]
     },
     "metadata": {},
     "output_type": "display_data"
    }
   ],
   "source": [
    "if train == TrainEnum.BC:\n",
    "    env = make_configure_env(**env_kwargs)\n",
    "    state_dim = env.observation_space.high.shape[0]*env.observation_space.high.shape[1]\n",
    "    action_dim = env.action_space.n\n",
    "\n",
    "    num_epochs = 3\n",
    "    rng=np.random.default_rng()\n",
    "    device = torch.device('cuda' if torch.cuda.is_available() else 'cpu')\n",
    "    policy = DefaultActorCriticPolicy(env, device)\n",
    "    \n",
    "    batch_size= 128\n",
    "    bc_trainer = bc.BC(\n",
    "                        observation_space=env.observation_space,\n",
    "                        action_space=env.action_space,\n",
    "                        demonstrations=None, #training_transitions,\n",
    "                        rng=rng,\n",
    "                        batch_size=batch_size,\n",
    "                        device = device,\n",
    "                        policy=policy\n",
    "                        )\n",
    "\n",
    "    \n",
    "    # reward_before_training, std_reward_before_training = evaluate_policy(bc_trainer.policy, env, 10)\n",
    "    # print(f\"Reward before training: {reward_before_training}, std_reward_before_training: {std_reward_before_training}\")\n",
    "\n",
    "    # Extract the HDF5 files from the zip archive\n",
    "    with zipfile.ZipFile(zip_filename, 'r') as archive:\n",
    "        archive.extractall(extract_path)\n",
    "\n",
    "    # Extract the names of the HDF5 files from the zip archive\n",
    "    with zipfile.ZipFile(zip_filename, 'r') as archive:\n",
    "        hdf5_train_file_names = [os.path.join(extract_path, name) \n",
    "                                    for name in archive.namelist() \n",
    "                                    if name.endswith('.h5') and \"train\" in name]\n",
    "        hdf5_val_file_names = [os.path.join(extract_path, name) \n",
    "                                    for name in archive.namelist() \n",
    "                                    if name.endswith('.h5') and \"val\" in name]            \n",
    "\n",
    "    # Create separate datasets for each HDF5 file\n",
    "    train_datasets = [CustomDataset(hdf5_name, device) for hdf5_name in hdf5_train_file_names[:2]]\n",
    "    # val_datasets = [CustomDataset(hdf5_name, device) for hdf5_name in hdf5_val_file_names]\n",
    "    \n",
    "    # custom_dataset = CustomDataset(expert_data_file, device=device)\n",
    "    train_data_loaders = [DataLoader(\n",
    "                                dataset, \n",
    "                                batch_size=batch_size, \n",
    "                                shuffle=True,\n",
    "                                drop_last=True,\n",
    "                                num_workers=n_cpu,\n",
    "                                pin_memory=True\n",
    "                            ) for dataset in train_datasets]\n",
    "    \n",
    "    \n",
    "\n",
    "    for epoch in range(num_epochs):\n",
    "        for data_loader in train_data_loaders:\n",
    "            bc_trainer.set_demonstrations(data_loader)\n",
    "            bc_trainer.train(n_epochs=1)\n",
    "    # reward_after_training, std_reward_after_training = evaluate_policy(bc_trainer.policy, env, 10)\n",
    "    # print(f\"Reward after training: {reward_after_training}, std_reward_after_training: {std_reward_after_training}\") \n",
    "\n",
    "\n",
    "    with wandb.init(\n",
    "                        project=\"BC\", \n",
    "                        # magic=True,\n",
    "                    ) as run:\n",
    "                    run.name = f\"sweep_{month}{day}_{timenow()}\"\n",
    "                    # Log the model as an artifact in wandb\n",
    "                    torch.save(bc_trainer, 'BC_agent.pth')            \n",
    "                    artifact = wandb.Artifact(\"trained_model\", type=\"model\")\n",
    "                    artifact.add_file(\"BC_agent.pth\")\n",
    "                    run.log_artifact(artifact)\n",
    "    wandb.finish()\n",
    "\n",
    "    true_labels = []\n",
    "    predicted_labels = []\n",
    "    # Iterate through the validation data and make predictions\n",
    "    with torch.no_grad():\n",
    "        for val_data_file in hdf5_val_file_names[:2]:\n",
    "            val_obs, val_acts, val_dones = extract_post_processed_expert_data(val_data_file)\n",
    "            predicted_labels.extend([bc_trainer.policy.predict(obs)[0] for obs in val_obs])\n",
    "            true_labels.extend(val_acts)\n",
    "\n",
    "    # Calculate evaluation metrics\n",
    "    accuracy = accuracy_score(true_labels, predicted_labels)\n",
    "    precision = precision_score(true_labels, predicted_labels, average=None)\n",
    "    recall = recall_score(true_labels, predicted_labels, average=None)\n",
    "    f1 = f1_score(true_labels, predicted_labels, average=None)\n",
    "    conf_matrix = confusion_matrix(true_labels, predicted_labels)\n",
    "\n",
    "    # Print the metrics\n",
    "    print(\"Accuracy:\", accuracy, np.mean(accuracy))\n",
    "    print(\"Precision:\", precision, np.mean(precision))\n",
    "    print(\"Recall:\", recall, np.mean(recall))\n",
    "    print(\"F1 Score:\", f1, np.mean(f1))\n",
    "\n",
    "\n",
    "    predicted_labels = []\n",
    "    true_labels = []\n",
    "    with torch.no_grad():\n",
    "        for val_data_file in hdf5_train_file_names[:2]:\n",
    "            val_obs, val_acts, val_dones = extract_post_processed_expert_data(val_data_file)\n",
    "            predicted_labels.extend([bc_trainer.policy.predict(obs)[0] for obs in val_obs])\n",
    "            true_labels.extend(val_acts)\n",
    "\n",
    "    # Calculate evaluation metrics\n",
    "    accuracy = accuracy_score(true_labels, predicted_labels)\n",
    "    precision = precision_score(true_labels, predicted_labels, average=None)\n",
    "    recall = recall_score(true_labels, predicted_labels, average=None)\n",
    "    f1 = f1_score(true_labels, predicted_labels, average=None)\n",
    "\n",
    "\n",
    "\n",
    "    print(\"--------  Training data metrics for reference---------------\")\n",
    "    print(\"Accuracy:\", accuracy, np.mean(accuracy))\n",
    "    print(\"Precision:\", precision,  np.mean(precision))\n",
    "    print(\"Recall:\", recall, np.mean(recall))\n",
    "    print(\"F1 Score:\", f1, np.mean(recall))\n",
    "\n",
    "\n",
    "    plt.figure(figsize=(8, 6))\n",
    "    class_labels = [ ACTIONS_ALL[idx] for idx in range(len(ACTIONS_ALL))]\n",
    "    sns.heatmap(conf_matrix, annot=True, fmt=\"d\", cmap=\"Blues\", xticklabels=class_labels, yticklabels=class_labels)\n",
    "    plt.xlabel(\"Predicted Labels\")\n",
    "    plt.ylabel(\"True Labels\")\n",
    "    plt.title(\"Confusion Matrix\")\n",
    "    plt.show()"
   ]
  }
 ],
 "metadata": {
  "kernelspec": {
   "display_name": "Python 3",
   "language": "python",
   "name": "python3"
  },
  "language_info": {
   "codemirror_mode": {
    "name": "ipython",
    "version": 3
   },
   "file_extension": ".py",
   "mimetype": "text/x-python",
   "name": "python",
   "nbconvert_exporter": "python",
   "pygments_lexer": "ipython3",
   "version": "3.8.10"
  },
  "orig_nbformat": 4
 },
 "nbformat": 4,
 "nbformat_minor": 2
}
